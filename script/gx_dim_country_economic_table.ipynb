{
 "cells": [
  {
   "cell_type": "code",
   "execution_count": 1,
   "metadata": {},
   "outputs": [],
   "source": [
    "import great_expectations as gx"
   ]
  },
  {
   "cell_type": "code",
   "execution_count": 2,
   "metadata": {},
   "outputs": [],
   "source": [
    "# Membuat data context\n",
    "context = gx.get_context(project_root_dir='./')"
   ]
  },
  {
   "cell_type": "code",
   "execution_count": 3,
   "metadata": {},
   "outputs": [],
   "source": [
    "# membuat nama untuk datasource\n",
    "datasource_name = 'csv-data-dim-country-economic'\n",
    "datasource = context.data_sources.add_pandas(datasource_name)\n",
    "\n",
    "# membuat nama untuk data asset\n",
    "asset_name = 'dim_country_economic_table'\n",
    "path_to_data = 'df_country_economic.csv'\n",
    "asset = datasource.add_csv_asset(name=asset_name, filepath_or_buffer=path_to_data)\n",
    "\n",
    "# Membuat batch request\n",
    "batch_request = asset.build_batch_request()"
   ]
  },
  {
   "cell_type": "code",
   "execution_count": 4,
   "metadata": {},
   "outputs": [],
   "source": [
    "# membuat expectation suite\n",
    "expectation_suite_name = 'expectation-country-economic-dataset'\n",
    "suite = gx.ExpectationSuite(name=expectation_suite_name)\n",
    "\n",
    "# memasukkan Expectation Suite ke dalam Data Context\n",
    "suite = context.suites.add(suite)\n",
    "suite = context.suites.get(name=expectation_suite_name)"
   ]
  },
  {
   "cell_type": "code",
   "execution_count": 5,
   "metadata": {},
   "outputs": [
    {
     "name": "stderr",
     "output_type": "stream",
     "text": [
      "Calculating Metrics: 100%|██████████| 1/1 [00:00<00:00, 199.96it/s]\n"
     ]
    },
    {
     "data": {
      "text/html": [
       "<div>\n",
       "<style scoped>\n",
       "    .dataframe tbody tr th:only-of-type {\n",
       "        vertical-align: middle;\n",
       "    }\n",
       "\n",
       "    .dataframe tbody tr th {\n",
       "        vertical-align: top;\n",
       "    }\n",
       "\n",
       "    .dataframe thead th {\n",
       "        text-align: right;\n",
       "    }\n",
       "</style>\n",
       "<table border=\"1\" class=\"dataframe\">\n",
       "  <thead>\n",
       "    <tr style=\"text-align: right;\">\n",
       "      <th></th>\n",
       "      <th>country_name</th>\n",
       "      <th>year</th>\n",
       "      <th>gdp_growth</th>\n",
       "      <th>gdp_per_capita</th>\n",
       "    </tr>\n",
       "  </thead>\n",
       "  <tbody>\n",
       "    <tr>\n",
       "      <th>0</th>\n",
       "      <td>Afghanistan</td>\n",
       "      <td>2000</td>\n",
       "      <td>0.000000</td>\n",
       "      <td>0.000000</td>\n",
       "    </tr>\n",
       "    <tr>\n",
       "      <th>1</th>\n",
       "      <td>Afghanistan</td>\n",
       "      <td>2001</td>\n",
       "      <td>0.000000</td>\n",
       "      <td>0.000000</td>\n",
       "    </tr>\n",
       "    <tr>\n",
       "      <th>2</th>\n",
       "      <td>Afghanistan</td>\n",
       "      <td>2002</td>\n",
       "      <td>0.000000</td>\n",
       "      <td>179.426579</td>\n",
       "    </tr>\n",
       "    <tr>\n",
       "      <th>3</th>\n",
       "      <td>Afghanistan</td>\n",
       "      <td>2003</td>\n",
       "      <td>8.832278</td>\n",
       "      <td>190.683814</td>\n",
       "    </tr>\n",
       "    <tr>\n",
       "      <th>4</th>\n",
       "      <td>Afghanistan</td>\n",
       "      <td>2004</td>\n",
       "      <td>1.414118</td>\n",
       "      <td>211.382074</td>\n",
       "    </tr>\n",
       "  </tbody>\n",
       "</table>\n",
       "</div>"
      ],
      "text/plain": [
       "  country_name  year  gdp_growth  gdp_per_capita\n",
       "0  Afghanistan  2000    0.000000        0.000000\n",
       "1  Afghanistan  2001    0.000000        0.000000\n",
       "2  Afghanistan  2002    0.000000      179.426579\n",
       "3  Afghanistan  2003    8.832278      190.683814\n",
       "4  Afghanistan  2004    1.414118      211.382074"
      ]
     },
     "execution_count": 5,
     "metadata": {},
     "output_type": "execute_result"
    }
   ],
   "source": [
    "# membuat validator sesuai dengan expectation suite\n",
    "validator = context.get_validator(\n",
    "    batch_request = batch_request,\n",
    "    expectation_suite_name = expectation_suite_name\n",
    ")\n",
    "\n",
    "# mengecek validator\n",
    "validator.head()"
   ]
  },
  {
   "cell_type": "code",
   "execution_count": 7,
   "metadata": {},
   "outputs": [
    {
     "name": "stderr",
     "output_type": "stream",
     "text": [
      "c:\\Users\\AhmadG\\anaconda3\\envs\\agif2\\lib\\site-packages\\great_expectations\\expectations\\expectation.py:1453: UserWarning: `result_format` configured at the Validator-level will not be persisted. Please add the configuration to your Checkpoint config or checkpoint_run() method instead.\n",
      "  warnings.warn(\n",
      "Calculating Metrics: 100%|██████████| 6/6 [00:00<00:00, 140.56it/s]\n"
     ]
    },
    {
     "data": {
      "text/plain": [
       "{\n",
       "  \"success\": true,\n",
       "  \"expectation_config\": {\n",
       "    \"type\": \"expect_column_values_to_not_be_null\",\n",
       "    \"kwargs\": {\n",
       "      \"batch_id\": \"csv-data-dim-country-economic-dim_country_economic_table\",\n",
       "      \"column\": \"country_name\"\n",
       "    },\n",
       "    \"meta\": {}\n",
       "  },\n",
       "  \"result\": {\n",
       "    \"element_count\": 3649,\n",
       "    \"unexpected_count\": 0,\n",
       "    \"unexpected_percent\": 0.0,\n",
       "    \"partial_unexpected_list\": []\n",
       "  },\n",
       "  \"meta\": {},\n",
       "  \"exception_info\": {\n",
       "    \"raised_exception\": false,\n",
       "    \"exception_traceback\": null,\n",
       "    \"exception_message\": null\n",
       "  }\n",
       "}"
      ]
     },
     "execution_count": 7,
     "metadata": {},
     "output_type": "execute_result"
    }
   ],
   "source": [
    "# Expectation 1 : kolom `country_name` tidak boleh memiliki missing value\n",
    "\n",
    "validator.expect_column_values_to_not_be_null('country_name')"
   ]
  },
  {
   "cell_type": "code",
   "execution_count": 8,
   "metadata": {},
   "outputs": [
    {
     "name": "stderr",
     "output_type": "stream",
     "text": [
      "c:\\Users\\AhmadG\\anaconda3\\envs\\agif2\\lib\\site-packages\\great_expectations\\expectations\\expectation.py:1453: UserWarning: `result_format` configured at the Validator-level will not be persisted. Please add the configuration to your Checkpoint config or checkpoint_run() method instead.\n",
      "  warnings.warn(\n",
      "Calculating Metrics: 100%|██████████| 1/1 [00:00<00:00, 140.12it/s]\n"
     ]
    },
    {
     "data": {
      "text/plain": [
       "{\n",
       "  \"success\": true,\n",
       "  \"expectation_config\": {\n",
       "    \"type\": \"expect_column_values_to_be_in_type_list\",\n",
       "    \"kwargs\": {\n",
       "      \"batch_id\": \"csv-data-dim-country-economic-dim_country_economic_table\",\n",
       "      \"column\": \"gdp_growth\",\n",
       "      \"type_list\": [\n",
       "        \"integer\",\n",
       "        \"float\"\n",
       "      ]\n",
       "    },\n",
       "    \"meta\": {}\n",
       "  },\n",
       "  \"result\": {\n",
       "    \"observed_value\": \"float64\"\n",
       "  },\n",
       "  \"meta\": {},\n",
       "  \"exception_info\": {\n",
       "    \"raised_exception\": false,\n",
       "    \"exception_traceback\": null,\n",
       "    \"exception_message\": null\n",
       "  }\n",
       "}"
      ]
     },
     "execution_count": 8,
     "metadata": {},
     "output_type": "execute_result"
    }
   ],
   "source": [
    "# Expectation 2 : tipe data pada kolom 'gdp_growth' harus integer atau float\n",
    "\n",
    "validator.expect_column_values_to_be_in_type_list('gdp_growth', ['integer', 'float'])"
   ]
  },
  {
   "cell_type": "code",
   "execution_count": 9,
   "metadata": {},
   "outputs": [
    {
     "name": "stderr",
     "output_type": "stream",
     "text": [
      "c:\\Users\\AhmadG\\anaconda3\\envs\\agif2\\lib\\site-packages\\great_expectations\\expectations\\expectation.py:1453: UserWarning: `result_format` configured at the Validator-level will not be persisted. Please add the configuration to your Checkpoint config or checkpoint_run() method instead.\n",
      "  warnings.warn(\n",
      "Calculating Metrics: 100%|██████████| 2/2 [00:00<00:00, 162.38it/s]\n"
     ]
    },
    {
     "data": {
      "text/plain": [
       "{\n",
       "  \"success\": true,\n",
       "  \"expectation_config\": {\n",
       "    \"type\": \"expect_column_to_exist\",\n",
       "    \"kwargs\": {\n",
       "      \"batch_id\": \"csv-data-dim-country-economic-dim_country_economic_table\",\n",
       "      \"column\": \"year\"\n",
       "    },\n",
       "    \"meta\": {}\n",
       "  },\n",
       "  \"result\": {},\n",
       "  \"meta\": {},\n",
       "  \"exception_info\": {\n",
       "    \"raised_exception\": false,\n",
       "    \"exception_traceback\": null,\n",
       "    \"exception_message\": null\n",
       "  }\n",
       "}"
      ]
     },
     "execution_count": 9,
     "metadata": {},
     "output_type": "execute_result"
    }
   ],
   "source": [
    "# Expectation 3 : kolom 'year' harus ada\n",
    "\n",
    "validator.expect_column_to_exist(column='year')"
   ]
  },
  {
   "cell_type": "code",
   "execution_count": null,
   "metadata": {},
   "outputs": [
    {
     "name": "stderr",
     "output_type": "stream",
     "text": [
      "c:\\Users\\AhmadG\\anaconda3\\envs\\agif2\\lib\\site-packages\\great_expectations\\expectations\\expectation.py:1453: UserWarning: `result_format` configured at the Validator-level will not be persisted. Please add the configuration to your Checkpoint config or checkpoint_run() method instead.\n",
      "  warnings.warn(\n",
      "Calculating Metrics: 100%|██████████| 4/4 [00:00<00:00, 79.53it/s]\n"
     ]
    },
    {
     "data": {
      "text/plain": [
       "{\n",
       "  \"success\": true,\n",
       "  \"expectation_config\": {\n",
       "    \"type\": \"expect_column_min_to_be_between\",\n",
       "    \"kwargs\": {\n",
       "      \"batch_id\": \"csv-data-dim-country-economic-dim_country_economic_table\",\n",
       "      \"column\": \"year\",\n",
       "      \"min_value\": 2000.0\n",
       "    },\n",
       "    \"meta\": {}\n",
       "  },\n",
       "  \"result\": {\n",
       "    \"observed_value\": 2000\n",
       "  },\n",
       "  \"meta\": {},\n",
       "  \"exception_info\": {\n",
       "    \"raised_exception\": false,\n",
       "    \"exception_traceback\": null,\n",
       "    \"exception_message\": null\n",
       "  }\n",
       "}"
      ]
     },
     "execution_count": 11,
     "metadata": {},
     "output_type": "execute_result"
    }
   ],
   "source": [
    "# Expectation 4 : minimum value di kolom 'year' adalah 2000\n",
    "\n",
    "validator.expect_column_min_to_be_between('year', 2000)"
   ]
  }
 ],
 "metadata": {
  "kernelspec": {
   "display_name": "agif2",
   "language": "python",
   "name": "python3"
  },
  "language_info": {
   "codemirror_mode": {
    "name": "ipython",
    "version": 3
   },
   "file_extension": ".py",
   "mimetype": "text/x-python",
   "name": "python",
   "nbconvert_exporter": "python",
   "pygments_lexer": "ipython3",
   "version": "3.9.21"
  }
 },
 "nbformat": 4,
 "nbformat_minor": 2
}
