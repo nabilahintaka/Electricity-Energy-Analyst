{
 "cells": [
  {
   "cell_type": "code",
   "execution_count": 1,
   "metadata": {},
   "outputs": [],
   "source": [
    "import great_expectations as gx"
   ]
  },
  {
   "cell_type": "code",
   "execution_count": 2,
   "metadata": {},
   "outputs": [],
   "source": [
    "# Membuat data context\n",
    "context = gx.get_context(project_root_dir='./')"
   ]
  },
  {
   "cell_type": "code",
   "execution_count": 3,
   "metadata": {},
   "outputs": [],
   "source": [
    "# membuat nama untuk datasource\n",
    "datasource_name = 'csv-data-fact'\n",
    "datasource = context.data_sources.add_pandas(datasource_name)\n",
    "\n",
    "# membuat nama untuk data asset\n",
    "asset_name = 'fact_table'\n",
    "path_to_data = 'df_fact.csv'\n",
    "asset = datasource.add_csv_asset(name=asset_name, filepath_or_buffer=path_to_data)\n",
    "\n",
    "# Membuat batch request\n",
    "batch_request = asset.build_batch_request()"
   ]
  },
  {
   "cell_type": "code",
   "execution_count": 4,
   "metadata": {},
   "outputs": [],
   "source": [
    "# membuat expectation suite\n",
    "expectation_suite_name = 'expectation-fact-dataset'\n",
    "suite = gx.ExpectationSuite(name=expectation_suite_name)\n",
    "\n",
    "# memasukkan Expectation Suite ke dalam Data Context\n",
    "suite = context.suites.add(suite)\n",
    "suite = context.suites.get(name=expectation_suite_name)"
   ]
  },
  {
   "cell_type": "code",
   "execution_count": 5,
   "metadata": {},
   "outputs": [
    {
     "name": "stderr",
     "output_type": "stream",
     "text": [
      "Calculating Metrics: 100%|██████████| 1/1 [00:00<00:00, 166.75it/s]\n"
     ]
    },
    {
     "data": {
      "text/html": [
       "<div>\n",
       "<style scoped>\n",
       "    .dataframe tbody tr th:only-of-type {\n",
       "        vertical-align: middle;\n",
       "    }\n",
       "\n",
       "    .dataframe tbody tr th {\n",
       "        vertical-align: top;\n",
       "    }\n",
       "\n",
       "    .dataframe thead th {\n",
       "        text-align: right;\n",
       "    }\n",
       "</style>\n",
       "<table border=\"1\" class=\"dataframe\">\n",
       "  <thead>\n",
       "    <tr style=\"text-align: right;\">\n",
       "      <th></th>\n",
       "      <th>country_name</th>\n",
       "      <th>year</th>\n",
       "      <th>access_electricity</th>\n",
       "      <th>access_clean_fuels</th>\n",
       "      <th>renewable_electricity</th>\n",
       "      <th>financial_flows</th>\n",
       "      <th>renewable_energy_share</th>\n",
       "      <th>electricity_fossil_fuels</th>\n",
       "      <th>electricity_nuclear</th>\n",
       "      <th>electricity_renewables</th>\n",
       "      <th>low_carbon_electricity</th>\n",
       "      <th>primary_energy_consumption</th>\n",
       "      <th>energy_intensity_level</th>\n",
       "      <th>value_co2_emissions</th>\n",
       "      <th>renewables</th>\n",
       "    </tr>\n",
       "  </thead>\n",
       "  <tbody>\n",
       "    <tr>\n",
       "      <th>0</th>\n",
       "      <td>Afghanistan</td>\n",
       "      <td>2000</td>\n",
       "      <td>1.613591</td>\n",
       "      <td>6.2</td>\n",
       "      <td>9.22</td>\n",
       "      <td>20000.0</td>\n",
       "      <td>44.99</td>\n",
       "      <td>0.16</td>\n",
       "      <td>0.0</td>\n",
       "      <td>0.31</td>\n",
       "      <td>65.957440</td>\n",
       "      <td>302.59482</td>\n",
       "      <td>1.64</td>\n",
       "      <td>760.000000</td>\n",
       "      <td>0.0</td>\n",
       "    </tr>\n",
       "    <tr>\n",
       "      <th>1</th>\n",
       "      <td>Afghanistan</td>\n",
       "      <td>2001</td>\n",
       "      <td>4.074574</td>\n",
       "      <td>7.2</td>\n",
       "      <td>8.86</td>\n",
       "      <td>130000.0</td>\n",
       "      <td>45.60</td>\n",
       "      <td>0.09</td>\n",
       "      <td>0.0</td>\n",
       "      <td>0.50</td>\n",
       "      <td>84.745766</td>\n",
       "      <td>236.89185</td>\n",
       "      <td>1.74</td>\n",
       "      <td>730.000000</td>\n",
       "      <td>0.0</td>\n",
       "    </tr>\n",
       "    <tr>\n",
       "      <th>2</th>\n",
       "      <td>Afghanistan</td>\n",
       "      <td>2002</td>\n",
       "      <td>9.409158</td>\n",
       "      <td>8.2</td>\n",
       "      <td>8.47</td>\n",
       "      <td>3950000.0</td>\n",
       "      <td>37.83</td>\n",
       "      <td>0.13</td>\n",
       "      <td>0.0</td>\n",
       "      <td>0.56</td>\n",
       "      <td>81.159424</td>\n",
       "      <td>210.86215</td>\n",
       "      <td>1.40</td>\n",
       "      <td>1029.999971</td>\n",
       "      <td>0.0</td>\n",
       "    </tr>\n",
       "    <tr>\n",
       "      <th>3</th>\n",
       "      <td>Afghanistan</td>\n",
       "      <td>2003</td>\n",
       "      <td>14.738506</td>\n",
       "      <td>9.5</td>\n",
       "      <td>8.09</td>\n",
       "      <td>25970000.0</td>\n",
       "      <td>36.66</td>\n",
       "      <td>0.31</td>\n",
       "      <td>0.0</td>\n",
       "      <td>0.63</td>\n",
       "      <td>67.021280</td>\n",
       "      <td>229.96822</td>\n",
       "      <td>1.40</td>\n",
       "      <td>1220.000029</td>\n",
       "      <td>0.0</td>\n",
       "    </tr>\n",
       "    <tr>\n",
       "      <th>4</th>\n",
       "      <td>Afghanistan</td>\n",
       "      <td>2004</td>\n",
       "      <td>20.064968</td>\n",
       "      <td>10.9</td>\n",
       "      <td>7.75</td>\n",
       "      <td>0.0</td>\n",
       "      <td>44.24</td>\n",
       "      <td>0.33</td>\n",
       "      <td>0.0</td>\n",
       "      <td>0.56</td>\n",
       "      <td>62.921350</td>\n",
       "      <td>204.23125</td>\n",
       "      <td>1.20</td>\n",
       "      <td>1029.999971</td>\n",
       "      <td>0.0</td>\n",
       "    </tr>\n",
       "  </tbody>\n",
       "</table>\n",
       "</div>"
      ],
      "text/plain": [
       "  country_name  year  access_electricity  access_clean_fuels  \\\n",
       "0  Afghanistan  2000            1.613591                 6.2   \n",
       "1  Afghanistan  2001            4.074574                 7.2   \n",
       "2  Afghanistan  2002            9.409158                 8.2   \n",
       "3  Afghanistan  2003           14.738506                 9.5   \n",
       "4  Afghanistan  2004           20.064968                10.9   \n",
       "\n",
       "   renewable_electricity  financial_flows  renewable_energy_share  \\\n",
       "0                   9.22          20000.0                   44.99   \n",
       "1                   8.86         130000.0                   45.60   \n",
       "2                   8.47        3950000.0                   37.83   \n",
       "3                   8.09       25970000.0                   36.66   \n",
       "4                   7.75              0.0                   44.24   \n",
       "\n",
       "   electricity_fossil_fuels  electricity_nuclear  electricity_renewables  \\\n",
       "0                      0.16                  0.0                    0.31   \n",
       "1                      0.09                  0.0                    0.50   \n",
       "2                      0.13                  0.0                    0.56   \n",
       "3                      0.31                  0.0                    0.63   \n",
       "4                      0.33                  0.0                    0.56   \n",
       "\n",
       "   low_carbon_electricity  primary_energy_consumption  energy_intensity_level  \\\n",
       "0               65.957440                   302.59482                    1.64   \n",
       "1               84.745766                   236.89185                    1.74   \n",
       "2               81.159424                   210.86215                    1.40   \n",
       "3               67.021280                   229.96822                    1.40   \n",
       "4               62.921350                   204.23125                    1.20   \n",
       "\n",
       "   value_co2_emissions  renewables  \n",
       "0           760.000000         0.0  \n",
       "1           730.000000         0.0  \n",
       "2          1029.999971         0.0  \n",
       "3          1220.000029         0.0  \n",
       "4          1029.999971         0.0  "
      ]
     },
     "execution_count": 5,
     "metadata": {},
     "output_type": "execute_result"
    }
   ],
   "source": [
    "# membuat validator sesuai dengan expectation suite\n",
    "validator = context.get_validator(\n",
    "    batch_request = batch_request,\n",
    "    expectation_suite_name = expectation_suite_name\n",
    ")\n",
    "\n",
    "# mengecek validator\n",
    "validator.head()"
   ]
  },
  {
   "cell_type": "code",
   "execution_count": null,
   "metadata": {},
   "outputs": [
    {
     "name": "stderr",
     "output_type": "stream",
     "text": [
      "c:\\Users\\AhmadG\\anaconda3\\envs\\agif2\\lib\\site-packages\\great_expectations\\expectations\\expectation.py:1453: UserWarning: `result_format` configured at the Validator-level will not be persisted. Please add the configuration to your Checkpoint config or checkpoint_run() method instead.\n",
      "  warnings.warn(\n",
      "Calculating Metrics: 100%|██████████| 6/6 [00:00<00:00, 146.41it/s]\n"
     ]
    },
    {
     "data": {
      "text/plain": [
       "{\n",
       "  \"success\": true,\n",
       "  \"expectation_config\": {\n",
       "    \"type\": \"expect_column_values_to_not_be_null\",\n",
       "    \"kwargs\": {\n",
       "      \"batch_id\": \"csv-data-fact-fact_table\",\n",
       "      \"column\": \"country_name\"\n",
       "    },\n",
       "    \"meta\": {}\n",
       "  },\n",
       "  \"result\": {\n",
       "    \"element_count\": 3649,\n",
       "    \"unexpected_count\": 0,\n",
       "    \"unexpected_percent\": 0.0,\n",
       "    \"partial_unexpected_list\": []\n",
       "  },\n",
       "  \"meta\": {},\n",
       "  \"exception_info\": {\n",
       "    \"raised_exception\": false,\n",
       "    \"exception_traceback\": null,\n",
       "    \"exception_message\": null\n",
       "  }\n",
       "}"
      ]
     },
     "execution_count": 6,
     "metadata": {},
     "output_type": "execute_result"
    }
   ],
   "source": [
    "# Expectation 1 : kolom `country_name` tidak boleh memiliki missing value\n",
    "\n",
    "validator.expect_column_values_to_not_be_null('country_name')"
   ]
  },
  {
   "cell_type": "code",
   "execution_count": null,
   "metadata": {},
   "outputs": [
    {
     "name": "stderr",
     "output_type": "stream",
     "text": [
      "c:\\Users\\AhmadG\\anaconda3\\envs\\agif2\\lib\\site-packages\\great_expectations\\expectations\\expectation.py:1453: UserWarning: `result_format` configured at the Validator-level will not be persisted. Please add the configuration to your Checkpoint config or checkpoint_run() method instead.\n",
      "  warnings.warn(\n",
      "Calculating Metrics: 100%|██████████| 1/1 [00:00<00:00, 151.40it/s]\n"
     ]
    },
    {
     "data": {
      "text/plain": [
       "{\n",
       "  \"success\": true,\n",
       "  \"expectation_config\": {\n",
       "    \"type\": \"expect_column_values_to_be_in_type_list\",\n",
       "    \"kwargs\": {\n",
       "      \"batch_id\": \"csv-data-fact-fact_table\",\n",
       "      \"column\": \"access_electricity\",\n",
       "      \"type_list\": [\n",
       "        \"integer\",\n",
       "        \"float\"\n",
       "      ]\n",
       "    },\n",
       "    \"meta\": {}\n",
       "  },\n",
       "  \"result\": {\n",
       "    \"observed_value\": \"float64\"\n",
       "  },\n",
       "  \"meta\": {},\n",
       "  \"exception_info\": {\n",
       "    \"raised_exception\": false,\n",
       "    \"exception_traceback\": null,\n",
       "    \"exception_message\": null\n",
       "  }\n",
       "}"
      ]
     },
     "execution_count": 7,
     "metadata": {},
     "output_type": "execute_result"
    }
   ],
   "source": [
    "# Expectation 2 : tipe data pada kolom 'access_electricity' harus integer atau float\n",
    "\n",
    "validator.expect_column_values_to_be_in_type_list('access_electricity', ['integer', 'float'])"
   ]
  },
  {
   "cell_type": "code",
   "execution_count": null,
   "metadata": {},
   "outputs": [
    {
     "name": "stderr",
     "output_type": "stream",
     "text": [
      "c:\\Users\\AhmadG\\anaconda3\\envs\\agif2\\lib\\site-packages\\great_expectations\\expectations\\expectation.py:1453: UserWarning: `result_format` configured at the Validator-level will not be persisted. Please add the configuration to your Checkpoint config or checkpoint_run() method instead.\n",
      "  warnings.warn(\n",
      "Calculating Metrics: 100%|██████████| 2/2 [00:00<00:00, 142.87it/s]\n"
     ]
    },
    {
     "data": {
      "text/plain": [
       "{\n",
       "  \"success\": true,\n",
       "  \"expectation_config\": {\n",
       "    \"type\": \"expect_column_to_exist\",\n",
       "    \"kwargs\": {\n",
       "      \"batch_id\": \"csv-data-fact-fact_table\",\n",
       "      \"column\": \"year\"\n",
       "    },\n",
       "    \"meta\": {}\n",
       "  },\n",
       "  \"result\": {},\n",
       "  \"meta\": {},\n",
       "  \"exception_info\": {\n",
       "    \"raised_exception\": false,\n",
       "    \"exception_traceback\": null,\n",
       "    \"exception_message\": null\n",
       "  }\n",
       "}"
      ]
     },
     "execution_count": 8,
     "metadata": {},
     "output_type": "execute_result"
    }
   ],
   "source": [
    "# Expectation 3 : kolom 'year' harus ada\n",
    "\n",
    "validator.expect_column_to_exist(column='year')"
   ]
  },
  {
   "cell_type": "code",
   "execution_count": null,
   "metadata": {},
   "outputs": [
    {
     "name": "stderr",
     "output_type": "stream",
     "text": [
      "c:\\Users\\AhmadG\\anaconda3\\envs\\agif2\\lib\\site-packages\\great_expectations\\expectations\\expectation.py:1453: UserWarning: `result_format` configured at the Validator-level will not be persisted. Please add the configuration to your Checkpoint config or checkpoint_run() method instead.\n",
      "  warnings.warn(\n",
      "Calculating Metrics: 100%|██████████| 4/4 [00:00<00:00, 190.60it/s]\n"
     ]
    },
    {
     "data": {
      "text/plain": [
       "{\n",
       "  \"success\": true,\n",
       "  \"expectation_config\": {\n",
       "    \"type\": \"expect_column_max_to_be_between\",\n",
       "    \"kwargs\": {\n",
       "      \"batch_id\": \"csv-data-fact-fact_table\",\n",
       "      \"column\": \"access_electricity\",\n",
       "      \"min_value\": 0.0,\n",
       "      \"max_value\": 100.0\n",
       "    },\n",
       "    \"meta\": {}\n",
       "  },\n",
       "  \"result\": {\n",
       "    \"observed_value\": 100.0\n",
       "  },\n",
       "  \"meta\": {},\n",
       "  \"exception_info\": {\n",
       "    \"raised_exception\": false,\n",
       "    \"exception_traceback\": null,\n",
       "    \"exception_message\": null\n",
       "  }\n",
       "}"
      ]
     },
     "execution_count": 10,
     "metadata": {},
     "output_type": "execute_result"
    }
   ],
   "source": [
    "# Expectation 4 : maksimum value di kolom 'access_electricity' adalah 100\n",
    "\n",
    "validator.expect_column_max_to_be_between('access_electricity', 0, 100)"
   ]
  }
 ],
 "metadata": {
  "kernelspec": {
   "display_name": "agif2",
   "language": "python",
   "name": "python3"
  },
  "language_info": {
   "codemirror_mode": {
    "name": "ipython",
    "version": 3
   },
   "file_extension": ".py",
   "mimetype": "text/x-python",
   "name": "python",
   "nbconvert_exporter": "python",
   "pygments_lexer": "ipython3",
   "version": "3.9.21"
  }
 },
 "nbformat": 4,
 "nbformat_minor": 2
}
